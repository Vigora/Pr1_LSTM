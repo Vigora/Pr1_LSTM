{
 "cells": [
  {
   "cell_type": "code",
   "execution_count": 53,
   "metadata": {
    "collapsed": true
   },
   "outputs": [],
   "source": [
    "import pandas as pd\n",
    "import numpy as np\n",
    "import os, os.path"
   ]
  },
  {
   "cell_type": "code",
   "execution_count": 54,
   "metadata": {
    "collapsed": true
   },
   "outputs": [],
   "source": [
    "features = [\"Tm\", \"Rec_ID\", \"AvgTamb\", \"AvgHamb\", \"AvgGSi00\", \"AvgTSi00\", \n",
    "            \"AvgSPN1_G\", \"AvgSPN1_D\", \"AvgWind_S\", \"AvgWind_D\", \"AvgAir_P\"]\n",
    "dataf = pd.DataFrame([], columns = features)"
   ]
  },
  {
   "cell_type": "code",
   "execution_count": 55,
   "metadata": {
    "collapsed": true
   },
   "outputs": [],
   "source": [
    "def is_non_zero_file(fpath):  \n",
    "    return os.path.isfile(fpath) and os.path.getsize(fpath) > 0"
   ]
  },
  {
   "cell_type": "code",
   "execution_count": 56,
   "metadata": {},
   "outputs": [
    {
     "name": "stdout",
     "output_type": "stream",
     "text": [
      "1122\n"
     ]
    }
   ],
   "source": [
    "# get all txt files from the directory init_dir and all sub-directories\n",
    "init_dir = \"401\"\n",
    "flist  = []\n",
    " \n",
    "for root, dirs, files in os.walk(init_dir):\n",
    "    try:\n",
    "        for f in files:\n",
    "            fullpath = os.path.join(root, f)\n",
    "            if (is_non_zero_file(fullpath)) & (os.path.splitext(fullpath)[1] == '.txt'):\n",
    "                flist.append(fullpath)\n",
    "    except Exception as e:\n",
    "        raise e\n",
    "        print( \"No files found here!\")\n",
    "# print(flist[1])\n",
    "print(len(flist))\n",
    "\n"
   ]
  },
  {
   "cell_type": "code",
   "execution_count": 57,
   "metadata": {},
   "outputs": [
    {
     "name": "stdout",
     "output_type": "stream",
     "text": [
      "Total sequences: 106572\n"
     ]
    }
   ],
   "source": [
    "# generate all the 15-min averages for all the files \n",
    "features_to_analyze = [\"AvgTSi00\", \"AvgSPN1_D\"]\n",
    "\n",
    "dataAvg = []\n",
    "\n",
    "avg_len = 15 # average for every 15 minutes\n",
    "seq_len = 72 # 72 = 18 hours * 4 (four is the number of 15 min intervals in 1 hour) \n",
    "\n",
    "for fullpath in flist:\n",
    "    # arrays for the 15 min means\n",
    "    data = pd.read_csv(fullpath,delimiter=\"\\t\")        \n",
    "    pd_len = data.shape[0]  # all length of the sequence\n",
    "    #     print(fullpath)\n",
    "    # and then average everything using 15 min reading\n",
    "    for i in range(0,pd_len-avg_len,avg_len):\n",
    "        seq_in = data.iloc[i:i + avg_len][features_to_analyze].mean()  # not inclusive the higher limit\n",
    "        seq_in = np.array(seq_in).reshape(2)\n",
    "        dataAvg.append(seq_in)\n",
    "    # and now for list of avg values make a test data    \n",
    "print(\"Total sequences: {}\".format(len(dataAvg)))"
   ]
  },
  {
   "cell_type": "code",
   "execution_count": 58,
   "metadata": {
    "collapsed": true
   },
   "outputs": [],
   "source": [
    "features_to_analyze = [\"AvgTSi00\", \"AvgSPN1_D\"]\n",
    "featurs_len = len(features_to_analyze)\n",
    "# print(dataAvg[1][1])"
   ]
  },
  {
   "cell_type": "code",
   "execution_count": 59,
   "metadata": {},
   "outputs": [
    {
     "name": "stdout",
     "output_type": "stream",
     "text": [
      "Total sequences: 106499\n"
     ]
    }
   ],
   "source": [
    "dataX = []\n",
    "dataY = []\n",
    "\n",
    "for element in range(0, len(dataAvg)-seq_len-1, 1):\n",
    "    # and now make a list of test data from avg values\n",
    "    Z = np.array(dataAvg[element:element+seq_len]).reshape(seq_len,featurs_len)\n",
    "    dataX.append(Z)\n",
    "    dataY.append(dataAvg[element+seq_len+1][1])\n",
    "    \n",
    "print(\"Total sequences: {}\".format(len(dataX)))"
   ]
  },
  {
   "cell_type": "code",
   "execution_count": 60,
   "metadata": {},
   "outputs": [
    {
     "name": "stdout",
     "output_type": "stream",
     "text": [
      "(106499, 72, 2)\n"
     ]
    }
   ],
   "source": [
    "n_patterns = len(dataX)\n",
    "# reshape X to be [samples, time steps, features]\n",
    "X = np.reshape(dataX, (n_patterns, seq_len, featurs_len))\n",
    "print(X.shape)"
   ]
  },
  {
   "cell_type": "markdown",
   "metadata": {},
   "source": [
    "Normalize all the sequence, "
   ]
  },
  {
   "cell_type": "code",
   "execution_count": 61,
   "metadata": {
    "collapsed": true
   },
   "outputs": [],
   "source": [
    "Mx = X.max(axis=1).max(axis=0)\n",
    "Mn = X.min(axis=1).min(axis=0)\n",
    "M = X.mean(axis=1).mean(axis=0)\n",
    "MM = Mx-Mn"
   ]
  },
  {
   "cell_type": "code",
   "execution_count": 62,
   "metadata": {
    "collapsed": true
   },
   "outputs": [],
   "source": [
    "for i in (range(X.shape[0])):\n",
    "    for j in (range(X.shape[1])):\n",
    "        X[i][j] -= M\n",
    "        X[i][j] /= MM"
   ]
  },
  {
   "cell_type": "code",
   "execution_count": 63,
   "metadata": {},
   "outputs": [
    {
     "name": "stdout",
     "output_type": "stream",
     "text": [
      "(106499, 1)\n"
     ]
    }
   ],
   "source": [
    "# reshape X to be [samples, time steps, features]\n",
    "Y = np.reshape(dataY, (n_patterns, 1))\n",
    "print(Y.shape)\n"
   ]
  },
  {
   "cell_type": "code",
   "execution_count": 64,
   "metadata": {
    "collapsed": true
   },
   "outputs": [],
   "source": [
    "Y -= M[1]         \n",
    "Y /= MM[1]    "
   ]
  },
  {
   "cell_type": "code",
   "execution_count": 65,
   "metadata": {
    "collapsed": true
   },
   "outputs": [],
   "source": [
    "np.savez_compressed('data', dataX=dataX, dataY=dataY, X=X, Y=Y)\n"
   ]
  },
  {
   "cell_type": "code",
   "execution_count": 66,
   "metadata": {
    "collapsed": true
   },
   "outputs": [],
   "source": [
    "DataSet = np.load('data.npz')"
   ]
  },
  {
   "cell_type": "code",
   "execution_count": 67,
   "metadata": {
    "collapsed": true
   },
   "outputs": [],
   "source": [
    "dataX = DataSet['dataX']\n",
    "dataY = DataSet['dataY']\n",
    "n_patterns = len(dataX)"
   ]
  },
  {
   "cell_type": "code",
   "execution_count": 68,
   "metadata": {},
   "outputs": [
    {
     "name": "stdout",
     "output_type": "stream",
     "text": [
      "(106499, 72, 2)\n"
     ]
    }
   ],
   "source": [
    "# reshape X to be [samples, time steps, features]\n",
    "X = np.reshape(dataX, (n_patterns, seq_len, featurs_len))\n",
    "print(X.shape)       \n"
   ]
  },
  {
   "cell_type": "code",
   "execution_count": 69,
   "metadata": {},
   "outputs": [
    {
     "name": "stdout",
     "output_type": "stream",
     "text": [
      "[  31.89318985  108.12619017]\n",
      "[ 26.7588       3.08073333] \n",
      " [  31.89318985  108.12619017] \n",
      " [  -5.13438985 -105.04545684] \n",
      " [  50.41953333  664.57513333] \n",
      " [-0.10183335 -0.15806408]\n",
      "-0.158064079691\n",
      "(106499, 72, 2)\n"
     ]
    }
   ],
   "source": [
    "Mx = X.max(axis=1).max(axis=0)\n",
    "Mn = X.min(axis=1).min(axis=0)\n",
    "# print(Z)\n",
    "# print(len(Z))\n",
    "# print(Z.shape)\n",
    "\n",
    "M = X.mean(axis=1).mean(axis=0)\n",
    "print(M)\n",
    "MM = Mx-Mn\n",
    "\n",
    "W = X[3][4]\n",
    "print(W,\"\\n\",M,\"\\n\",W-M,\"\\n\",MM,\"\\n\",(W-M)/MM)\n",
    "print((W[1]-M[1])/MM[1])\n",
    "\n",
    "# reshape X to be [samples, time steps, features]\n",
    "X = np.reshape(dataX, (n_patterns, seq_len, featurs_len))\n",
    "print(X.shape)"
   ]
  },
  {
   "cell_type": "code",
   "execution_count": 70,
   "metadata": {},
   "outputs": [
    {
     "name": "stdout",
     "output_type": "stream",
     "text": [
      "(106499, 1)\n"
     ]
    }
   ],
   "source": [
    "# reshape X to be [samples, time steps, features]\n",
    "Y = np.reshape(dataY, (n_patterns, 1))\n",
    "print(Y.shape)\n"
   ]
  },
  {
   "cell_type": "code",
   "execution_count": 71,
   "metadata": {
    "collapsed": true
   },
   "outputs": [],
   "source": [
    "for i in (range(X.shape[0])):\n",
    "    for j in (range(X.shape[1])):\n",
    "        X[i][j] -= M \n",
    "        X[i][j] /= MM\n",
    "        \n",
    "Y -= M[1]         \n",
    "Y /= MM[1]         "
   ]
  },
  {
   "cell_type": "code",
   "execution_count": 72,
   "metadata": {},
   "outputs": [],
   "source": [
    "import numpy as np\n",
    "import sys\n",
    "\n",
    "import keras\n",
    "from keras.models import Sequential, Model, load_model\n",
    "from keras.layers import Dense, LSTM, Dropout, Input\n",
    "from keras.optimizers import RMSprop, Adam\n",
    "\n",
    "from keras.callbacks import ModelCheckpoint\n",
    "from keras.utils import np_utils\n",
    "\n",
    "import tensorflow as tf"
   ]
  },
  {
   "cell_type": "code",
   "execution_count": 73,
   "metadata": {},
   "outputs": [
    {
     "name": "stdout",
     "output_type": "stream",
     "text": [
      "(106499, 72, 2)\n",
      "our input shape is  (72, 2)\n"
     ]
    }
   ],
   "source": [
    "# define the input shape\n",
    "print(X.shape)\n",
    "inp = Input(shape=(X.shape[1], X.shape[2]))\n",
    "print('our input shape is ',(X.shape[1], X.shape[2]) )"
   ]
  },
  {
   "cell_type": "code",
   "execution_count": 74,
   "metadata": {
    "collapsed": true
   },
   "outputs": [],
   "source": [
    "from keras.layers import Dense\n",
    "from keras.layers import Embedding\n",
    "from keras.layers import LSTM\n",
    "from keras.models import Sequential\n",
    "from keras import layers\n",
    "from keras.optimizers import RMSprop"
   ]
  },
  {
   "cell_type": "code",
   "execution_count": 75,
   "metadata": {
    "collapsed": true
   },
   "outputs": [],
   "source": [
    "x = LSTM(256, return_sequences = True)(inp) \n",
    "x = Dropout(0.2)(x)\n",
    "x = LSTM(256)(x)\n",
    "x = Dropout(0.2)(x)\n",
    "# output = Dense(Y.shape[1])(x)\n",
    "# model.add(Activation('relu')) #'linear'\n",
    "# output = Dense(Y.shape[1], activation='relu')(x)\n",
    "output = Dense(Y.shape[1])(x)"
   ]
  },
  {
   "cell_type": "code",
   "execution_count": 76,
   "metadata": {
    "collapsed": true
   },
   "outputs": [],
   "source": [
    "generative_model = Model(inputs = inp, outputs=output)\n",
    "optimizer = RMSprop(lr=0.01)\n",
    "generative_model.compile(loss='mean_squared_error', optimizer='RMSprop')\n"
   ]
  },
  {
   "cell_type": "code",
   "execution_count": 77,
   "metadata": {
    "collapsed": true
   },
   "outputs": [],
   "source": [
    "# define the checkpoint\n",
    "filepath=\"weights-improvement-{epoch:02d}-{loss:.4f}-gentext-Telemetry.hdf5\"\n",
    "checkpoint = ModelCheckpoint(filepath, monitor='loss', verbose=1, save_best_only=True, mode='min')\n",
    "callbacks_list = [checkpoint]"
   ]
  },
  {
   "cell_type": "code",
   "execution_count": 78,
   "metadata": {
    "scrolled": false
   },
   "outputs": [
    {
     "name": "stdout",
     "output_type": "stream",
     "text": [
      "Train on 85199 samples, validate on 21300 samples\n",
      "Epoch 1/10\n",
      "85184/85199 [============================>.] - ETA: 0s - loss: 0.0059Epoch 00000: loss improved from inf to 0.00585, saving model to weights-improvement-00-0.0059-gentext-Telemetry.hdf5\n",
      "85199/85199 [==============================] - 1034s - loss: 0.0059 - val_loss: 0.0047\n",
      "Epoch 2/10\n",
      "85184/85199 [============================>.] - ETA: 0s - loss: 0.0047Epoch 00001: loss improved from 0.00585 to 0.00475, saving model to weights-improvement-01-0.0047-gentext-Telemetry.hdf5\n",
      "85199/85199 [==============================] - 1003s - loss: 0.0047 - val_loss: 0.0052\n",
      "Epoch 3/10\n",
      "85184/85199 [============================>.] - ETA: 0s - loss: 0.0046Epoch 00002: loss improved from 0.00475 to 0.00465, saving model to weights-improvement-02-0.0046-gentext-Telemetry.hdf5\n",
      "85199/85199 [==============================] - 1001s - loss: 0.0046 - val_loss: 0.0051\n",
      "Epoch 4/10\n",
      "85184/85199 [============================>.] - ETA: 0s - loss: 0.0046Epoch 00003: loss improved from 0.00465 to 0.00458, saving model to weights-improvement-03-0.0046-gentext-Telemetry.hdf5\n",
      "85199/85199 [==============================] - 1000s - loss: 0.0046 - val_loss: 0.0045\n",
      "Epoch 5/10\n",
      "85184/85199 [============================>.] - ETA: 0s - loss: 0.0044Epoch 00004: loss improved from 0.00458 to 0.00444, saving model to weights-improvement-04-0.0044-gentext-Telemetry.hdf5\n",
      "85199/85199 [==============================] - 1004s - loss: 0.0044 - val_loss: 0.0044\n",
      "Epoch 6/10\n",
      "85184/85199 [============================>.] - ETA: 0s - loss: 0.0044Epoch 00005: loss improved from 0.00444 to 0.00439, saving model to weights-improvement-05-0.0044-gentext-Telemetry.hdf5\n",
      "85199/85199 [==============================] - 1004s - loss: 0.0044 - val_loss: 0.0047\n",
      "Epoch 7/10\n",
      "85184/85199 [============================>.] - ETA: 0s - loss: 0.0044Epoch 00006: loss improved from 0.00439 to 0.00436, saving model to weights-improvement-06-0.0044-gentext-Telemetry.hdf5\n",
      "85199/85199 [==============================] - 1005s - loss: 0.0044 - val_loss: 0.0059\n",
      "Epoch 8/10\n",
      "85184/85199 [============================>.] - ETA: 0s - loss: 0.0044Epoch 00007: loss did not improve\n",
      "85199/85199 [==============================] - 1003s - loss: 0.0044 - val_loss: 0.0047\n",
      "Epoch 9/10\n",
      "85184/85199 [============================>.] - ETA: 0s - loss: 0.0046Epoch 00008: loss did not improve\n",
      "85199/85199 [==============================] - 1003s - loss: 0.0046 - val_loss: 0.0047\n",
      "Epoch 10/10\n",
      "85184/85199 [============================>.] - ETA: 0s - loss: 0.0043Epoch 00009: loss improved from 0.00436 to 0.00428, saving model to weights-improvement-09-0.0043-gentext-Telemetry.hdf5\n",
      "85199/85199 [==============================] - 1016s - loss: 0.0043 - val_loss: 0.0049\n"
     ]
    }
   ],
   "source": [
    "history = generative_model.fit(X, Y, epochs=10, batch_size=64, callbacks=callbacks_list, validation_split=0.2)\n"
   ]
  },
  {
   "cell_type": "code",
   "execution_count": 79,
   "metadata": {
    "collapsed": true
   },
   "outputs": [],
   "source": [
    "# model.save('my_model.h5')\n",
    "# del generative_model"
   ]
  },
  {
   "cell_type": "code",
   "execution_count": 80,
   "metadata": {},
   "outputs": [],
   "source": [
    "# from keras.models import load_model\n",
    "# generative_model = load_model('weights-improvement-06-0.0178-gentext-Telemetry.hdf5')"
   ]
  },
  {
   "cell_type": "code",
   "execution_count": 81,
   "metadata": {
    "collapsed": true
   },
   "outputs": [],
   "source": [
    "i=1\n",
    "x = np.reshape(X[i], (1, X.shape[1], X.shape[2]))\n",
    "prediction = generative_model.predict(x, verbose=0)"
   ]
  },
  {
   "cell_type": "code",
   "execution_count": 82,
   "metadata": {},
   "outputs": [
    {
     "name": "stdout",
     "output_type": "stream",
     "text": [
      "[[-0.13357939]]\n",
      "[-0.13861235]\n",
      "[[ 3.34478374]]\n"
     ]
    }
   ],
   "source": [
    "print(prediction)\n",
    "print(Y[1])\n",
    "print(abs(Y[1]-prediction)*MM[1])"
   ]
  },
  {
   "cell_type": "code",
   "execution_count": 83,
   "metadata": {
    "scrolled": true
   },
   "outputs": [
    {
     "data": {
      "image/png": "[encoded data removed]",
      "text/plain": [
       "<matplotlib.figure.Figure at 0x1d354df05f8>"
      ]
     },
     "metadata": {},
     "output_type": "display_data"
    }
   ],
   "source": [
    "import matplotlib.pyplot as plt\n",
    "# acc = history.history['acc']\n",
    "# val_acc = history.history['val_acc']\n",
    "loss = history.history['loss']\n",
    "val_loss = history.history['val_loss']\n",
    "epochs = range(1, len(loss) + 1)\n",
    "# plt.plot(epochs, acc, 'bo', label='Training acc')\n",
    "# plt.plot(epochs, val_acc, 'b', label='Validation acc')\n",
    "# plt.title('Training and validation accuracy')\n",
    "# plt.legend()\n",
    "# plt.figure()\n",
    "plt.plot(epochs, loss, 'bo', label='Training loss')\n",
    "plt.plot(epochs, val_loss, 'b', label='Validation loss')\n",
    "plt.title('Training and validation loss')\n",
    "plt.legend()\n",
    "plt.show()"
   ]
  },
  {
   "cell_type": "code",
   "execution_count": 84,
   "metadata": {
    "scrolled": true
   },
   "outputs": [
    {
     "name": "stdout",
     "output_type": "stream",
     "text": [
      "106496/106499 [============================>.] - ETA: 0s"
     ]
    }
   ],
   "source": [
    "# Evaluate model with test data set and share sample prediction results\n",
    "x_test, y_test = X,Y\n",
    "batch_size = 128\n",
    "evaluation = generative_model.evaluate(x_test, y_test,\n",
    "          batch_size=batch_size)\n"
   ]
  },
  {
   "cell_type": "code",
   "execution_count": 85,
   "metadata": {
    "scrolled": true
   },
   "outputs": [
    {
     "name": "stdout",
     "output_type": "stream",
     "text": [
      "Model Loss = 0.00\n"
     ]
    }
   ],
   "source": [
    "print('Model Loss = %.2f' % (evaluation))\n",
    "generative_model.save('Tele1_model')"
   ]
  },
  {
   "cell_type": "code",
   "execution_count": 86,
   "metadata": {
    "collapsed": true
   },
   "outputs": [],
   "source": [
    "preds = generative_model.predict(x_test)"
   ]
  },
  {
   "cell_type": "code",
   "execution_count": 87,
   "metadata": {},
   "outputs": [
    {
     "name": "stdout",
     "output_type": "stream",
     "text": [
      "<class 'numpy.ndarray'>\n"
     ]
    },
    {
     "data": {
      "text/plain": [
       "106499"
      ]
     },
     "execution_count": 87,
     "metadata": {},
     "output_type": "execute_result"
    }
   ],
   "source": [
    "print(type(preds))\n",
    "len(preds)"
   ]
  },
  {
   "cell_type": "code",
   "execution_count": 88,
   "metadata": {
    "scrolled": true
   },
   "outputs": [
    {
     "name": "stdout",
     "output_type": "stream",
     "text": [
      "[ 0.00503295]\n",
      "0.0148812422881 0.67447753793 0.0682516893246\n"
     ]
    }
   ],
   "source": [
    "\n",
    "Diff = (preds-Y)\n",
    "type(Diff)\n",
    "print(Diff[1])\n",
    "print(np.mean(Diff), np.max(Diff),np.std(Diff))"
   ]
  },
  {
   "cell_type": "code",
   "execution_count": 89,
   "metadata": {
    "scrolled": true
   },
   "outputs": [
    {
     "data": {
      "image/png": "[encoded data removed]",
      "text/plain": [
       "<matplotlib.figure.Figure at 0x1d354aec9b0>"
      ]
     },
     "metadata": {},
     "output_type": "display_data"
    }
   ],
   "source": [
    "from pandas import DataFrame\n",
    "results = DataFrame(Diff)\n",
    "results.boxplot()\n",
    "plt.show()\n"
   ]
  },
  {
   "cell_type": "code",
   "execution_count": 90,
   "metadata": {},
   "outputs": [
    {
     "data": {
      "image/png": "[encoded data removed]",
      "text/plain": [
       "<matplotlib.figure.Figure at 0x1d354db0f98>"
      ]
     },
     "metadata": {},
     "output_type": "display_data"
    }
   ],
   "source": [
    "import matplotlib.pyplot as plt\n",
    "frm = 100\n",
    "to = 500\n",
    "intervals15min = range(frm, to)\n",
    "plt.title('Predicted and measured data')\n",
    "plt.legend()\n",
    "plt.plot(intervals15min, Y[intervals15min], 'ro', label='Y_original')\n",
    "plt.plot(intervals15min, preds[intervals15min], 'b', label='Y_predicted')\n",
    "plt.show()"
   ]
  },
  {
   "cell_type": "code",
   "execution_count": null,
   "metadata": {
    "collapsed": true
   },
   "outputs": [],
   "source": []
  }
 ],
 "metadata": {
  "kernelspec": {
   "display_name": "Python 3",
   "language": "python",
   "name": "python3"
  },
  "language_info": {
   "codemirror_mode": {
    "name": "ipython",
    "version": 3
   },
   "file_extension": ".py",
   "mimetype": "text/x-python",
   "name": "python",
   "nbconvert_exporter": "python",
   "pygments_lexer": "ipython3",
   "version": "3.5.4"
  }
 },
 "nbformat": 4,
 "nbformat_minor": 1
}
