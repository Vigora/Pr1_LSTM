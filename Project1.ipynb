{
 "cells": [
  {
   "cell_type": "code",
   "execution_count": 1,
   "metadata": {
    "collapsed": true
   },
   "outputs": [],
   "source": [
    "import pandas as pd\n",
    "import numpy as np\n",
    "import os, os.path"
   ]
  },
  {
   "cell_type": "code",
   "execution_count": 2,
   "metadata": {
    "collapsed": true
   },
   "outputs": [],
   "source": [
    "features = [\"Tm\", \"Rec_ID\", \"AvgTamb\", \"AvgHamb\", \"AvgGSi00\", \"AvgTSi00\", \n",
    "            \"AvgSPN1_G\", \"AvgSPN1_D\", \"AvgWind_S\", \"AvgWind_D\", \"AvgAir_P\"]\n",
    "dataf = pd.DataFrame([], columns = features)"
   ]
  },
  {
   "cell_type": "code",
   "execution_count": 3,
   "metadata": {
    "collapsed": true
   },
   "outputs": [],
   "source": [
    "def is_non_zero_file(fpath):  \n",
    "    return os.path.isfile(fpath) and os.path.getsize(fpath) > 0"
   ]
  },
  {
   "cell_type": "code",
   "execution_count": 4,
   "metadata": {},
   "outputs": [
    {
     "name": "stdout",
     "output_type": "stream",
     "text": [
      "1122\n"
     ]
    }
   ],
   "source": [
    "# get all txt files from the directory init_dir and all sub-directories\n",
    "init_dir = \"401\"\n",
    "flist  = []\n",
    " \n",
    "for root, dirs, files in os.walk(init_dir):\n",
    "    try:\n",
    "        for f in files:\n",
    "            fullpath = os.path.join(root, f)\n",
    "            if (is_non_zero_file(fullpath)) & (os.path.splitext(fullpath)[1] == '.txt'):\n",
    "                flist.append(fullpath)\n",
    "    except Exception as e:\n",
    "        raise e\n",
    "        print( \"No files found here!\")\n",
    "# print(flist[1])\n",
    "print(len(flist))\n",
    "\n"
   ]
  },
  {
   "cell_type": "code",
   "execution_count": 5,
   "metadata": {},
   "outputs": [
    {
     "name": "stdout",
     "output_type": "stream",
     "text": [
      "Total sequences: 106572\n"
     ]
    }
   ],
   "source": [
    "# generate all the 15-min averages for all the files \n",
    "features_to_analyze = [\"AvgTSi00\", \"AvgSPN1_D\"]\n",
    "\n",
    "dataAvg = []\n",
    "\n",
    "avg_len = 15 # average for every 15 minutes\n",
    "seq_len = 72 # 72 = 18 hours * 4 (four is the number of 15 min intervals in 1 hour) \n",
    "\n",
    "for fullpath in flist:\n",
    "    # arrays for the 15 min means\n",
    "    data = pd.read_csv(fullpath,delimiter=\"\\t\")        \n",
    "    pd_len = data.shape[0]  # all length of the sequence\n",
    "    #     print(fullpath)\n",
    "    # and then average everything using 15 min reading\n",
    "    for i in range(0,pd_len-avg_len,avg_len):\n",
    "        seq_in = data.iloc[i:i + avg_len][features_to_analyze].mean()  # not inclusive the higher limit\n",
    "        seq_in = np.array(seq_in).reshape(2)\n",
    "        dataAvg.append(seq_in)\n",
    "    # and now for list of avg values make a test data    \n",
    "print(\"Total sequences: {}\".format(len(dataAvg)))"
   ]
  },
  {
   "cell_type": "code",
   "execution_count": 6,
   "metadata": {
    "collapsed": true
   },
   "outputs": [],
   "source": [
    "features_to_analyze = [\"AvgTSi00\", \"AvgSPN1_D\"]\n",
    "featurs_len = len(features_to_analyze)\n",
    "# print(dataAvg[1][1])"
   ]
  },
  {
   "cell_type": "code",
   "execution_count": 7,
   "metadata": {},
   "outputs": [
    {
     "name": "stdout",
     "output_type": "stream",
     "text": [
      "Total sequences: 106499\n"
     ]
    }
   ],
   "source": [
    "dataX = []\n",
    "dataY = []\n",
    "\n",
    "for element in range(0, len(dataAvg)-seq_len-1, 1):\n",
    "    # and now make a list of test data from avg values\n",
    "    Z = np.array(dataAvg[element:element+seq_len]).reshape(seq_len,featurs_len)\n",
    "    dataX.append(Z)\n",
    "    dataY.append(dataAvg[element+seq_len+1][1])\n",
    "    \n",
    "print(\"Total sequences: {}\".format(len(dataX)))"
   ]
  },
  {
   "cell_type": "code",
   "execution_count": 8,
   "metadata": {},
   "outputs": [
    {
     "name": "stdout",
     "output_type": "stream",
     "text": [
      "(106499, 72, 2)\n"
     ]
    }
   ],
   "source": [
    "n_patterns = len(dataX)\n",
    "# reshape X to be [samples, time steps, features]\n",
    "X = np.reshape(dataX, (n_patterns, seq_len, featurs_len))\n",
    "print(X.shape)"
   ]
  },
  {
   "cell_type": "code",
   "execution_count": 9,
   "metadata": {
    "collapsed": true
   },
   "outputs": [],
   "source": [
    "Mx = X.max(axis=1).max(axis=0)\n",
    "Mn = X.min(axis=1).min(axis=0)\n",
    "M = X.mean(axis=1).mean(axis=0)\n",
    "MM = Mx-Mn"
   ]
  },
  {
   "cell_type": "code",
   "execution_count": 10,
   "metadata": {
    "collapsed": true
   },
   "outputs": [],
   "source": [
    "for i in (range(X.shape[0])):\n",
    "    for j in (range(X.shape[1])):\n",
    "        X[i][j] -= M\n",
    "        X[i][j] /= MM"
   ]
  },
  {
   "cell_type": "code",
   "execution_count": 11,
   "metadata": {},
   "outputs": [
    {
     "name": "stdout",
     "output_type": "stream",
     "text": [
      "(106499, 1)\n"
     ]
    }
   ],
   "source": [
    "# reshape X to be [samples, time steps, features]\n",
    "Y = np.reshape(dataY, (n_patterns, 1))\n",
    "print(Y.shape)\n"
   ]
  },
  {
   "cell_type": "code",
   "execution_count": 12,
   "metadata": {
    "collapsed": true
   },
   "outputs": [],
   "source": [
    "Y -= M[1]         \n",
    "Y /= MM[1]    "
   ]
  },
  {
   "cell_type": "code",
   "execution_count": 13,
   "metadata": {
    "collapsed": true
   },
   "outputs": [],
   "source": [
    "np.savez_compressed('data', dataX=dataX, dataY=dataY, X=X, Y=Y)\n"
   ]
  },
  {
   "cell_type": "code",
   "execution_count": 14,
   "metadata": {
    "collapsed": true
   },
   "outputs": [],
   "source": [
    "DataSet = np.load('data.npz')"
   ]
  },
  {
   "cell_type": "code",
   "execution_count": 15,
   "metadata": {
    "collapsed": true
   },
   "outputs": [],
   "source": [
    "dataX = DataSet['dataX']\n",
    "dataY = DataSet['dataY']\n",
    "n_patterns = len(dataX)"
   ]
  },
  {
   "cell_type": "code",
   "execution_count": 16,
   "metadata": {},
   "outputs": [
    {
     "name": "stdout",
     "output_type": "stream",
     "text": [
      "(106499, 72, 2)\n"
     ]
    }
   ],
   "source": [
    "# reshape X to be [samples, time steps, features]\n",
    "X = np.reshape(dataX, (n_patterns, seq_len, featurs_len))\n",
    "print(X.shape)       \n"
   ]
  },
  {
   "cell_type": "code",
   "execution_count": 17,
   "metadata": {},
   "outputs": [
    {
     "name": "stdout",
     "output_type": "stream",
     "text": [
      "[  31.89318985  108.12619017]\n",
      "[ 26.7588       3.08073333] \n",
      " [  31.89318985  108.12619017] \n",
      " [  -5.13438985 -105.04545684] \n",
      " [  50.41953333  664.57513333] \n",
      " [-0.10183335 -0.15806408]\n",
      "-0.158064079691\n",
      "(106499, 72, 2)\n"
     ]
    }
   ],
   "source": [
    "Mx = X.max(axis=1).max(axis=0)\n",
    "Mn = X.min(axis=1).min(axis=0)\n",
    "# print(Z)\n",
    "# print(len(Z))\n",
    "# print(Z.shape)\n",
    "\n",
    "M = X.mean(axis=1).mean(axis=0)\n",
    "print(M)\n",
    "MM = Mx-Mn\n",
    "\n",
    "W = X[3][4]\n",
    "print(W,\"\\n\",M,\"\\n\",W-M,\"\\n\",MM,\"\\n\",(W-M)/MM)\n",
    "print((W[1]-M[1])/MM[1])\n",
    "\n",
    "# reshape X to be [samples, time steps, features]\n",
    "X = np.reshape(dataX, (n_patterns, seq_len, featurs_len))\n",
    "print(X.shape)"
   ]
  },
  {
   "cell_type": "code",
   "execution_count": 18,
   "metadata": {},
   "outputs": [
    {
     "name": "stdout",
     "output_type": "stream",
     "text": [
      "(106499, 1)\n"
     ]
    }
   ],
   "source": [
    "# reshape X to be [samples, time steps, features]\n",
    "Y = np.reshape(dataY, (n_patterns, 1))\n",
    "print(Y.shape)\n"
   ]
  },
  {
   "cell_type": "code",
   "execution_count": 19,
   "metadata": {
    "collapsed": true
   },
   "outputs": [],
   "source": [
    "for i in (range(X.shape[0])):\n",
    "    for j in (range(X.shape[1])):\n",
    "        X[i][j] -= M \n",
    "        X[i][j] /= MM\n",
    "        \n",
    "Y -= M[1]         \n",
    "Y /= MM[1]         "
   ]
  },
  {
   "cell_type": "code",
   "execution_count": 20,
   "metadata": {},
   "outputs": [
    {
     "name": "stderr",
     "output_type": "stream",
     "text": [
      "Using TensorFlow backend.\n"
     ]
    }
   ],
   "source": [
    "import numpy as np\n",
    "import sys\n",
    "\n",
    "import keras\n",
    "from keras.models import Sequential, Model, load_model\n",
    "from keras.layers import Dense, LSTM, Dropout, Input\n",
    "from keras.optimizers import RMSprop, Adam\n",
    "\n",
    "from keras.callbacks import ModelCheckpoint\n",
    "from keras.utils import np_utils\n",
    "\n",
    "import tensorflow as tf"
   ]
  },
  {
   "cell_type": "code",
   "execution_count": 21,
   "metadata": {},
   "outputs": [
    {
     "name": "stdout",
     "output_type": "stream",
     "text": [
      "(106499, 72, 2)\n",
      "our input shape is  (72, 2)\n"
     ]
    }
   ],
   "source": [
    "# define the input shape\n",
    "print(X.shape)\n",
    "inp = Input(shape=(X.shape[1], X.shape[2]))\n",
    "print('our input shape is ',(X.shape[1], X.shape[2]) )"
   ]
  },
  {
   "cell_type": "code",
   "execution_count": 22,
   "metadata": {
    "collapsed": true
   },
   "outputs": [],
   "source": [
    "from keras.layers import Dense\n",
    "from keras.layers import Embedding\n",
    "from keras.layers import LSTM\n",
    "from keras.models import Sequential\n",
    "from keras import layers\n",
    "from keras.optimizers import RMSprop"
   ]
  },
  {
   "cell_type": "code",
   "execution_count": 24,
   "metadata": {},
   "outputs": [],
   "source": [
    "x = LSTM(256, return_sequences = True)(inp) \n",
    "x = Dropout(0.2)(x)\n",
    "x = LSTM(256)(x)\n",
    "x = Dropout(0.2)(x)\n",
    "# output = Dense(Y.shape[1])(x)\n",
    "# model.add(Activation('relu')) #'linear'\n",
    "output = Dense(Y.shape[1], activation='relu')(x)"
   ]
  },
  {
   "cell_type": "code",
   "execution_count": 25,
   "metadata": {
    "collapsed": true
   },
   "outputs": [],
   "source": [
    "generative_model = Model(inputs = inp, outputs=output)\n",
    "optimizer = RMSprop(lr=0.01)\n",
    "generative_model.compile(loss='mean_squared_error', optimizer='RMSprop')\n"
   ]
  },
  {
   "cell_type": "code",
   "execution_count": 27,
   "metadata": {
    "collapsed": true
   },
   "outputs": [],
   "source": [
    "# define the checkpoint\n",
    "filepath=\"weights-improvement-{epoch:02d}-{loss:.4f}-gentext-Telemetry.hdf5\"\n",
    "checkpoint = ModelCheckpoint(filepath, monitor='loss', verbose=1, save_best_only=True, mode='min')\n",
    "callbacks_list = [checkpoint]"
   ]
  },
  {
   "cell_type": "code",
   "execution_count": 28,
   "metadata": {},
   "outputs": [
    {
     "name": "stdout",
     "output_type": "stream",
     "text": [
      "Train on 85199 samples, validate on 21300 samples\n",
      "Epoch 1/15\n",
      "84992/85199 [============================>.] - ETA: 2s - loss: 0.0197Epoch 00000: loss improved from inf to 0.01974, saving model to weights-improvement-00-0.0197-gentext-Telemetry.hdf5\n",
      "85199/85199 [==============================] - 1180s - loss: 0.0197 - val_loss: 0.0196\n",
      "Epoch 2/15\n",
      "84992/85199 [============================>.] - ETA: 2s - loss: 0.0182Epoch 00001: loss improved from 0.01974 to 0.01821, saving model to weights-improvement-01-0.0182-gentext-Telemetry.hdf5\n",
      "85199/85199 [==============================] - 979s - loss: 0.0182 - val_loss: 0.0194\n",
      "Epoch 3/15\n",
      "84992/85199 [============================>.] - ETA: 2s - loss: 0.0180Epoch 00002: loss improved from 0.01821 to 0.01799, saving model to weights-improvement-02-0.0180-gentext-Telemetry.hdf5\n",
      "85199/85199 [==============================] - 975s - loss: 0.0180 - val_loss: 0.0183\n",
      "Epoch 4/15\n",
      "84992/85199 [============================>.] - ETA: 2s - loss: 0.0179Epoch 00003: loss improved from 0.01799 to 0.01794, saving model to weights-improvement-03-0.0179-gentext-Telemetry.hdf5\n",
      "85199/85199 [==============================] - 984s - loss: 0.0179 - val_loss: 0.0182\n",
      "Epoch 5/15\n",
      "84992/85199 [============================>.] - ETA: 2s - loss: 0.0179Epoch 00004: loss improved from 0.01794 to 0.01787, saving model to weights-improvement-04-0.0179-gentext-Telemetry.hdf5\n",
      "85199/85199 [==============================] - 992s - loss: 0.0179 - val_loss: 0.0181\n",
      "Epoch 6/15\n",
      "84992/85199 [============================>.] - ETA: 2s - loss: 0.0183Epoch 00005: loss did not improve\n",
      "85199/85199 [==============================] - 982s - loss: 0.0183 - val_loss: 0.0185\n",
      "Epoch 7/15\n",
      "84992/85199 [============================>.] - ETA: 2s - loss: 0.0179Epoch 00006: loss did not improve\n",
      "85199/85199 [==============================] - 976s - loss: 0.0179 - val_loss: 0.0184\n",
      "Epoch 8/15\n",
      "84992/85199 [============================>.] - ETA: 2s - loss: 0.0178Epoch 00007: loss improved from 0.01787 to 0.01779, saving model to weights-improvement-07-0.0178-gentext-Telemetry.hdf5\n",
      "85199/85199 [==============================] - 976s - loss: 0.0178 - val_loss: 0.0181\n",
      "Epoch 9/15\n",
      "84992/85199 [============================>.] - ETA: 2s - loss: 0.0180Epoch 00008: loss did not improve\n",
      "85199/85199 [==============================] - 980s - loss: 0.0180 - val_loss: 0.0192\n",
      "Epoch 10/15\n",
      "84992/85199 [============================>.] - ETA: 2s - loss: 0.0178Epoch 00009: loss improved from 0.01779 to 0.01775, saving model to weights-improvement-09-0.0178-gentext-Telemetry.hdf5\n",
      "85199/85199 [==============================] - 976s - loss: 0.0178 - val_loss: 0.0181\n",
      "Epoch 11/15\n",
      "84992/85199 [============================>.] - ETA: 2s - loss: 0.0177Epoch 00010: loss improved from 0.01775 to 0.01773, saving model to weights-improvement-10-0.0177-gentext-Telemetry.hdf5\n",
      "85199/85199 [==============================] - 975s - loss: 0.0177 - val_loss: 0.0180\n",
      "Epoch 12/15\n",
      "84992/85199 [============================>.] - ETA: 2s - loss: 0.0177Epoch 00011: loss improved from 0.01773 to 0.01771, saving model to weights-improvement-11-0.0177-gentext-Telemetry.hdf5\n",
      "85199/85199 [==============================] - 1011s - loss: 0.0177 - val_loss: 0.0183\n",
      "Epoch 13/15\n",
      "84992/85199 [============================>.] - ETA: 3s - loss: 0.0177Epoch 00012: loss improved from 0.01771 to 0.01768, saving model to weights-improvement-12-0.0177-gentext-Telemetry.hdf5\n",
      "85199/85199 [==============================] - 1366s - loss: 0.0177 - val_loss: 0.0181\n",
      "Epoch 14/15\n",
      "84992/85199 [============================>.] - ETA: 2s - loss: 0.0180Epoch 00013: loss did not improve\n",
      "85199/85199 [==============================] - 973s - loss: 0.0180 - val_loss: 0.0182\n",
      "Epoch 15/15\n",
      "84992/85199 [============================>.] - ETA: 2s - loss: 0.0178Epoch 00014: loss did not improve\n",
      "85199/85199 [==============================] - 971s - loss: 0.0178 - val_loss: 0.0183\n"
     ]
    }
   ],
   "source": [
    "history = generative_model.fit(X, Y, epochs=15, batch_size=256, callbacks=callbacks_list, validation_split=0.2)\n"
   ]
  },
  {
   "cell_type": "code",
   "execution_count": 29,
   "metadata": {
    "collapsed": true
   },
   "outputs": [],
   "source": [
    "i=1\n",
    "x = np.reshape(X[i], (1, X.shape[1], X.shape[2]))\n",
    "prediction = generative_model.predict(x, verbose=0)"
   ]
  },
  {
   "cell_type": "code",
   "execution_count": 30,
   "metadata": {},
   "outputs": [
    {
     "name": "stdout",
     "output_type": "stream",
     "text": [
      "[[ 0.]]\n",
      "[-0.13861235]\n",
      "[[ 92.1183235]]\n"
     ]
    }
   ],
   "source": [
    "print(prediction)\n",
    "print(Y[1])\n",
    "print(abs(Y[1]-prediction)*MM[1])"
   ]
  },
  {
   "cell_type": "code",
   "execution_count": 31,
   "metadata": {
    "scrolled": true
   },
   "outputs": [
    {
     "data": {
      "image/png": "[encoded data removed]",
      "text/plain": [
       "<matplotlib.figure.Figure at 0x1c9c9400a90>"
      ]
     },
     "metadata": {},
     "output_type": "display_data"
    }
   ],
   "source": [
    "import matplotlib.pyplot as plt\n",
    "# acc = history.history['acc']\n",
    "# val_acc = history.history['val_acc']\n",
    "loss = history.history['loss']\n",
    "val_loss = history.history['val_loss']\n",
    "epochs = range(1, len(loss) + 1)\n",
    "# plt.plot(epochs, acc, 'bo', label='Training acc')\n",
    "# plt.plot(epochs, val_acc, 'b', label='Validation acc')\n",
    "# plt.title('Training and validation accuracy')\n",
    "# plt.legend()\n",
    "plt.figure()\n",
    "plt.plot(epochs, loss, 'bo', label='Training loss')\n",
    "plt.plot(epochs, val_loss, 'b', label='Validation loss')\n",
    "plt.title('Training and validation loss')\n",
    "plt.legend()\n",
    "plt.show()"
   ]
  },
  {
   "cell_type": "code",
   "execution_count": 32,
   "metadata": {
    "scrolled": true
   },
   "outputs": [
    {
     "name": "stdout",
     "output_type": "stream",
     "text": [
      "106496/106499 [============================>.] - ETA: 0s"
     ]
    },
    {
     "ename": "IndexError",
     "evalue": "invalid index to scalar variable.",
     "output_type": "error",
     "traceback": [
      "\u001b[1;31m---------------------------------------------------------------------------\u001b[0m",
      "\u001b[1;31mIndexError\u001b[0m                                Traceback (most recent call last)",
      "\u001b[1;32m<ipython-input-32-3885e76e8b43>\u001b[0m in \u001b[0;36m<module>\u001b[1;34m()\u001b[0m\n\u001b[0;32m      4\u001b[0m evaluation = generative_model.evaluate(x_test, y_test,\n\u001b[0;32m      5\u001b[0m           batch_size=batch_size)\n\u001b[1;32m----> 6\u001b[1;33m \u001b[0mprint\u001b[0m\u001b[1;33m(\u001b[0m\u001b[1;34m'Model Accuracy = %.2f'\u001b[0m \u001b[1;33m%\u001b[0m \u001b[1;33m(\u001b[0m\u001b[0mevaluation\u001b[0m\u001b[1;33m[\u001b[0m\u001b[1;36m1\u001b[0m\u001b[1;33m]\u001b[0m\u001b[1;33m)\u001b[0m\u001b[1;33m)\u001b[0m\u001b[1;33m\u001b[0m\u001b[0m\n\u001b[0m\u001b[0;32m      7\u001b[0m \u001b[0mprint\u001b[0m\u001b[1;33m(\u001b[0m\u001b[1;34m'Model Loss = %.2f'\u001b[0m \u001b[1;33m%\u001b[0m \u001b[1;33m(\u001b[0m\u001b[0mevaluation\u001b[0m\u001b[1;33m[\u001b[0m\u001b[1;36m0\u001b[0m\u001b[1;33m]\u001b[0m\u001b[1;33m)\u001b[0m\u001b[1;33m)\u001b[0m\u001b[1;33m\u001b[0m\u001b[0m\n\u001b[0;32m      8\u001b[0m \u001b[1;33m\u001b[0m\u001b[0m\n",
      "\u001b[1;31mIndexError\u001b[0m: invalid index to scalar variable."
     ]
    }
   ],
   "source": [
    "# Evaluate model with test data set and share sample prediction results\n",
    "x_test, y_test = X,Y\n",
    "batch_size = 128\n",
    "evaluation = generative_model.evaluate(x_test, y_test,\n",
    "          batch_size=batch_size)\n"
   ]
  },
  {
   "cell_type": "code",
   "execution_count": 41,
   "metadata": {
    "scrolled": true
   },
   "outputs": [
    {
     "name": "stdout",
     "output_type": "stream",
     "text": [
      "Model Loss = 0.02\n"
     ]
    }
   ],
   "source": [
    "print('Model Loss = %.2f' % (evaluation))\n",
    "generative_model.save('Tele1_model')"
   ]
  },
  {
   "cell_type": "code",
   "execution_count": 43,
   "metadata": {
    "collapsed": true
   },
   "outputs": [],
   "source": [
    "preds = generative_model.predict(x_test)"
   ]
  },
  {
   "cell_type": "code",
   "execution_count": 45,
   "metadata": {},
   "outputs": [
    {
     "name": "stdout",
     "output_type": "stream",
     "text": [
      "<class 'numpy.ndarray'>\n"
     ]
    },
    {
     "data": {
      "text/plain": [
       "106499"
      ]
     },
     "execution_count": 45,
     "metadata": {},
     "output_type": "execute_result"
    }
   ],
   "source": [
    "print(type(preds))\n",
    "len(preds)"
   ]
  },
  {
   "cell_type": "code",
   "execution_count": 48,
   "metadata": {},
   "outputs": [
    {
     "name": "stdout",
     "output_type": "stream",
     "text": [
      "[ 0.13861235]\n",
      "0.0817687411986 0.549706925178 0.105817502804\n"
     ]
    }
   ],
   "source": [
    "\n",
    "Diff = (preds-Y)\n",
    "type(Diff)\n",
    "print(Diff[1])\n",
    "print(np.mean(Diff), np.max(Diff),np.std(Diff))"
   ]
  },
  {
   "cell_type": "code",
   "execution_count": 53,
   "metadata": {},
   "outputs": [
    {
     "data": {
      "image/png": "[encoded data removed]",
      "text/plain": [
       "<matplotlib.figure.Figure at 0x1c986b2d4e0>"
      ]
     },
     "metadata": {},
     "output_type": "display_data"
    }
   ],
   "source": [
    "from pandas import DataFrame\n",
    "results = DataFrame(Diff)\n",
    "results.boxplot()\n",
    "plt.show()\n"
   ]
  }
 ],
 "metadata": {
  "kernelspec": {
   "display_name": "Python 3",
   "language": "python",
   "name": "python3"
  },
  "language_info": {
   "codemirror_mode": {
    "name": "ipython",
    "version": 3
   },
   "file_extension": ".py",
   "mimetype": "text/x-python",
   "name": "python",
   "nbconvert_exporter": "python",
   "pygments_lexer": "ipython3",
   "version": "3.5.4"
  }
 },
 "nbformat": 4,
 "nbformat_minor": 1
}
